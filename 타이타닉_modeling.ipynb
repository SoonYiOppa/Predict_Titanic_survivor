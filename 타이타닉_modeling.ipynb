{
 "cells": [
  {
   "cell_type": "code",
   "execution_count": 268,
   "id": "2fa47b7c-e4e2-4f5c-8fb5-68af9bd7fa73",
   "metadata": {},
   "outputs": [
    {
     "name": "stdout",
     "output_type": "stream",
     "text": [
      "[train data 데이터 타입] \n",
      "\n",
      "PassengerId      int64\n",
      "Survived         int64\n",
      "Pclass           int64\n",
      "Name            object\n",
      "Sex             object\n",
      "Age            float64\n",
      "SibSp            int64\n",
      "Parch            int64\n",
      "Ticket          object\n",
      "Fare           float64\n",
      "Cabin           object\n",
      "Embarked        object\n",
      "dtype: object\n",
      "\n",
      " [test data 데이터 타입] \n",
      "\n",
      "PassengerId      int64\n",
      "Pclass           int64\n",
      "Name            object\n",
      "Sex             object\n",
      "Age            float64\n",
      "SibSp            int64\n",
      "Parch            int64\n",
      "Ticket          object\n",
      "Fare           float64\n",
      "Cabin           object\n",
      "Embarked        object\n",
      "dtype: object\n"
     ]
    }
   ],
   "source": [
    "import warnings\n",
    "warnings.filterwarnings(\"ignore\")\n",
    "\n",
    "import pandas as pd\n",
    "\n",
    "train_data = pd.read_csv(\"./data/train.csv\",encoding=\"UTF-8\")\n",
    "test_data = pd.read_csv(\"./data/test.csv\", encoding=\"UTF-8\")\n",
    "\n",
    "#데이터 속성 확인\n",
    "print(\"[train data 데이터 타입] \\n\", train_data.dtypes, sep='\\n')\n",
    "print(\"\\n [test data 데이터 타입] \\n\", test_data.dtypes, sep='\\n')"
   ]
  },
  {
   "cell_type": "code",
   "execution_count": 269,
   "id": "72da012f-930c-44eb-a723-a71b67aa6dad",
   "metadata": {},
   "outputs": [
    {
     "name": "stdout",
     "output_type": "stream",
     "text": [
      "결측치가 있는 컬럼은 : Age입니다.\n",
      "해당 컬럼에 총 177개의 결측치가 존재합니다.\n",
      "결측치가 있는 컬럼은 : Cabin입니다.\n",
      "해당 컬럼에 총 687개의 결측치가 존재합니다.\n",
      "결측치가 있는 컬럼은 : Embarked입니다.\n",
      "해당 컬럼에 총 2개의 결측치가 존재합니다.\n"
     ]
    }
   ],
   "source": [
    "#train data 결측치 확인\n",
    "\n",
    "def check_missing_col(dataframe) :\n",
    "    missing_col = []\n",
    "    counted_missing_col = 0\n",
    "    for i, col in enumerate(dataframe.columns) :\n",
    "        missing_values = sum(dataframe[col].isna())\n",
    "        is_missing = True if missing_values >=1 else False\n",
    "        if is_missing :\n",
    "            counted_missing_col += 1\n",
    "            print(f'결측치가 있는 컬럼은 : {col}입니다.')\n",
    "            print(f'해당 컬럼에 총 {missing_values}개의 결측치가 존재합니다.')\n",
    "            missing_col.append([col, dataframe[col].dtype])\n",
    "    if counted_missing_col == 0:\n",
    "        print('결측치가 존재하지 않습니다')\n",
    "    return missing_col\n",
    "\n",
    "missing_col_train = check_missing_col(train_data)"
   ]
  },
  {
   "cell_type": "code",
   "execution_count": 270,
   "id": "0a23d32f-6e91-487c-b7ad-83c97cb2831a",
   "metadata": {},
   "outputs": [
    {
     "name": "stdout",
     "output_type": "stream",
     "text": [
      "결측치가 있는 컬럼은 : Age입니다.\n",
      "해당 컬럼에 총 86개의 결측치가 존재합니다.\n",
      "결측치가 있는 컬럼은 : Fare입니다.\n",
      "해당 컬럼에 총 1개의 결측치가 존재합니다.\n",
      "결측치가 있는 컬럼은 : Cabin입니다.\n",
      "해당 컬럼에 총 327개의 결측치가 존재합니다.\n"
     ]
    }
   ],
   "source": [
    "#test data 결측치 확인\n",
    "def check_missing_col(dataframe) :\n",
    "    missing_col = []\n",
    "    counted_missing_col = 0\n",
    "    for i, col in enumerate(dataframe.columns) :\n",
    "        missing_values = sum(dataframe[col].isna())\n",
    "        is_missing = True if missing_values >=1 else False\n",
    "        if is_missing :\n",
    "            counted_missing_col += 1\n",
    "            print(f'결측치가 있는 컬럼은 : {col}입니다.')\n",
    "            print(f'해당 컬럼에 총 {missing_values}개의 결측치가 존재합니다.')\n",
    "            missing_col.append([col, dataframe[col].dtype])\n",
    "    if counted_missing_col == 0:\n",
    "        print('결측치가 존재하지 않습니다')\n",
    "    return missing_col\n",
    "\n",
    "missing_col_test = check_missing_col(test_data)"
   ]
  },
  {
   "cell_type": "code",
   "execution_count": 271,
   "id": "4ec4dd76-733b-43e2-8027-fef5183466fd",
   "metadata": {},
   "outputs": [
    {
     "name": "stdout",
     "output_type": "stream",
     "text": [
      "train data 컬럼 삭제 확인 :  Index(['Survived', 'Pclass', 'Sex', 'Age', 'SibSp', 'Parch', 'Fare',\n",
      "       'Embarked'],\n",
      "      dtype='object')\n",
      "test data 컬럼 삭제 확인 :  Index(['Pclass', 'Sex', 'Age', 'SibSp', 'Parch', 'Fare', 'Embarked'], dtype='object')\n"
     ]
    }
   ],
   "source": [
    "# PassengerId, Name, 결측치가 가장 많은 Cabin 컬럼, Ticket 삭제 - 데이터 분석에 영향이 매우 적기 때문 \n",
    "train_data = train_data.drop(['PassengerId', 'Name','Cabin', 'Ticket'], axis=1)\n",
    "test_data = test_data.drop(['PassengerId', 'Name','Cabin', 'Ticket'], axis=1)\n",
    "\n",
    "print(\"train data 컬럼 삭제 확인 : \", train_data.columns )\n",
    "print(\"test data 컬럼 삭제 확인 : \", test_data.columns )"
   ]
  },
  {
   "cell_type": "code",
   "execution_count": 214,
   "id": "814ca02b-eac4-4d52-9e11-170fc96050f3",
   "metadata": {},
   "outputs": [
    {
     "data": {
      "text/html": [
       "<div>\n",
       "<style scoped>\n",
       "    .dataframe tbody tr th:only-of-type {\n",
       "        vertical-align: middle;\n",
       "    }\n",
       "\n",
       "    .dataframe tbody tr th {\n",
       "        vertical-align: top;\n",
       "    }\n",
       "\n",
       "    .dataframe thead th {\n",
       "        text-align: right;\n",
       "    }\n",
       "</style>\n",
       "<table border=\"1\" class=\"dataframe\">\n",
       "  <thead>\n",
       "    <tr style=\"text-align: right;\">\n",
       "      <th></th>\n",
       "      <th>Survived</th>\n",
       "      <th>Pclass</th>\n",
       "      <th>Sex</th>\n",
       "      <th>Age</th>\n",
       "      <th>SibSp</th>\n",
       "      <th>Parch</th>\n",
       "      <th>Fare</th>\n",
       "      <th>Embarked</th>\n",
       "    </tr>\n",
       "  </thead>\n",
       "  <tbody>\n",
       "    <tr>\n",
       "      <th>5</th>\n",
       "      <td>0</td>\n",
       "      <td>3</td>\n",
       "      <td>male</td>\n",
       "      <td>NaN</td>\n",
       "      <td>0</td>\n",
       "      <td>0</td>\n",
       "      <td>8.4583</td>\n",
       "      <td>Q</td>\n",
       "    </tr>\n",
       "    <tr>\n",
       "      <th>17</th>\n",
       "      <td>1</td>\n",
       "      <td>2</td>\n",
       "      <td>male</td>\n",
       "      <td>NaN</td>\n",
       "      <td>0</td>\n",
       "      <td>0</td>\n",
       "      <td>13.0000</td>\n",
       "      <td>S</td>\n",
       "    </tr>\n",
       "    <tr>\n",
       "      <th>19</th>\n",
       "      <td>1</td>\n",
       "      <td>3</td>\n",
       "      <td>female</td>\n",
       "      <td>NaN</td>\n",
       "      <td>0</td>\n",
       "      <td>0</td>\n",
       "      <td>7.2250</td>\n",
       "      <td>C</td>\n",
       "    </tr>\n",
       "    <tr>\n",
       "      <th>26</th>\n",
       "      <td>0</td>\n",
       "      <td>3</td>\n",
       "      <td>male</td>\n",
       "      <td>NaN</td>\n",
       "      <td>0</td>\n",
       "      <td>0</td>\n",
       "      <td>7.2250</td>\n",
       "      <td>C</td>\n",
       "    </tr>\n",
       "    <tr>\n",
       "      <th>28</th>\n",
       "      <td>1</td>\n",
       "      <td>3</td>\n",
       "      <td>female</td>\n",
       "      <td>NaN</td>\n",
       "      <td>0</td>\n",
       "      <td>0</td>\n",
       "      <td>7.8792</td>\n",
       "      <td>Q</td>\n",
       "    </tr>\n",
       "    <tr>\n",
       "      <th>...</th>\n",
       "      <td>...</td>\n",
       "      <td>...</td>\n",
       "      <td>...</td>\n",
       "      <td>...</td>\n",
       "      <td>...</td>\n",
       "      <td>...</td>\n",
       "      <td>...</td>\n",
       "      <td>...</td>\n",
       "    </tr>\n",
       "    <tr>\n",
       "      <th>859</th>\n",
       "      <td>0</td>\n",
       "      <td>3</td>\n",
       "      <td>male</td>\n",
       "      <td>NaN</td>\n",
       "      <td>0</td>\n",
       "      <td>0</td>\n",
       "      <td>7.2292</td>\n",
       "      <td>C</td>\n",
       "    </tr>\n",
       "    <tr>\n",
       "      <th>863</th>\n",
       "      <td>0</td>\n",
       "      <td>3</td>\n",
       "      <td>female</td>\n",
       "      <td>NaN</td>\n",
       "      <td>8</td>\n",
       "      <td>2</td>\n",
       "      <td>69.5500</td>\n",
       "      <td>S</td>\n",
       "    </tr>\n",
       "    <tr>\n",
       "      <th>868</th>\n",
       "      <td>0</td>\n",
       "      <td>3</td>\n",
       "      <td>male</td>\n",
       "      <td>NaN</td>\n",
       "      <td>0</td>\n",
       "      <td>0</td>\n",
       "      <td>9.5000</td>\n",
       "      <td>S</td>\n",
       "    </tr>\n",
       "    <tr>\n",
       "      <th>878</th>\n",
       "      <td>0</td>\n",
       "      <td>3</td>\n",
       "      <td>male</td>\n",
       "      <td>NaN</td>\n",
       "      <td>0</td>\n",
       "      <td>0</td>\n",
       "      <td>7.8958</td>\n",
       "      <td>S</td>\n",
       "    </tr>\n",
       "    <tr>\n",
       "      <th>888</th>\n",
       "      <td>0</td>\n",
       "      <td>3</td>\n",
       "      <td>female</td>\n",
       "      <td>NaN</td>\n",
       "      <td>1</td>\n",
       "      <td>2</td>\n",
       "      <td>23.4500</td>\n",
       "      <td>S</td>\n",
       "    </tr>\n",
       "  </tbody>\n",
       "</table>\n",
       "<p>179 rows × 8 columns</p>\n",
       "</div>"
      ],
      "text/plain": [
       "     Survived  Pclass     Sex  Age  SibSp  Parch     Fare Embarked\n",
       "5           0       3    male  NaN      0      0   8.4583        Q\n",
       "17          1       2    male  NaN      0      0  13.0000        S\n",
       "19          1       3  female  NaN      0      0   7.2250        C\n",
       "26          0       3    male  NaN      0      0   7.2250        C\n",
       "28          1       3  female  NaN      0      0   7.8792        Q\n",
       "..        ...     ...     ...  ...    ...    ...      ...      ...\n",
       "859         0       3    male  NaN      0      0   7.2292        C\n",
       "863         0       3  female  NaN      8      2  69.5500        S\n",
       "868         0       3    male  NaN      0      0   9.5000        S\n",
       "878         0       3    male  NaN      0      0   7.8958        S\n",
       "888         0       3  female  NaN      1      2  23.4500        S\n",
       "\n",
       "[179 rows x 8 columns]"
      ]
     },
     "execution_count": 214,
     "metadata": {},
     "output_type": "execute_result"
    }
   ],
   "source": [
    "# train data 결측치 행 확인\n",
    "train_data[train_data.isna().sum(axis=1)>0]"
   ]
  },
  {
   "cell_type": "code",
   "execution_count": 272,
   "id": "a0b4beb5-2bbc-450c-b825-7980c53d1258",
   "metadata": {},
   "outputs": [],
   "source": [
    "#Embarked 결측치 대체\n",
    "train_data.fillna({'Embarked' : \"S\"}, inplace=True)"
   ]
  },
  {
   "cell_type": "code",
   "execution_count": 273,
   "id": "1cdde027-375b-46f7-8da5-929da4667f7d",
   "metadata": {},
   "outputs": [
    {
     "data": {
      "text/plain": [
       "Survived    0\n",
       "Pclass      0\n",
       "Sex         0\n",
       "Age         0\n",
       "SibSp       0\n",
       "Parch       0\n",
       "Fare        0\n",
       "Embarked    0\n",
       "dtype: int64"
      ]
     },
     "execution_count": 273,
     "metadata": {},
     "output_type": "execute_result"
    }
   ],
   "source": [
    "#Train data 사망 - 성별 Age 평균 대체\n",
    "fill_death = {\"female\" : 25, 'male': 31}\n",
    "death_func = lambda d: d.fillna(fill_death[d.name])\n",
    "\n",
    "death_train = train_data[train_data['Survived']==0]\n",
    "death_train = death_train.groupby(\"Sex\").apply(death_func)\n",
    "\n",
    "# 결측치 확인\n",
    "death_train.isna().sum()"
   ]
  },
  {
   "cell_type": "code",
   "execution_count": 277,
   "id": "704d18d0-2934-4afb-bc99-10bbaf397277",
   "metadata": {},
   "outputs": [],
   "source": [
    "#Train data 생존 - 성별 Age 평균 대체\n",
    "\n",
    "fill_surv = {'female' : 29, 'male' : 27}\n",
    "surv_func = lambda d : d.fillna(fill_surv[d.name])\n",
    "\n",
    "surv_train = train_data[train_data[\"Survived\"]==1]\n",
    "surv_train = surv_train.groupby(\"Sex\").apply(surv_func)\n",
    "\n",
    "#결측치 확인\n",
    "surv_train.isna().sum()\n",
    "\n",
    "# 데이터 재결합\n",
    "train_data = pd.concat([death_train,surv_train])"
   ]
  },
  {
   "cell_type": "code",
   "execution_count": 278,
   "id": "64a02675-1c83-44b5-be24-74549413b932",
   "metadata": {},
   "outputs": [
    {
     "data": {
      "text/html": [
       "<div>\n",
       "<style scoped>\n",
       "    .dataframe tbody tr th:only-of-type {\n",
       "        vertical-align: middle;\n",
       "    }\n",
       "\n",
       "    .dataframe tbody tr th {\n",
       "        vertical-align: top;\n",
       "    }\n",
       "\n",
       "    .dataframe thead th {\n",
       "        text-align: right;\n",
       "    }\n",
       "</style>\n",
       "<table border=\"1\" class=\"dataframe\">\n",
       "  <thead>\n",
       "    <tr style=\"text-align: right;\">\n",
       "      <th></th>\n",
       "      <th>Pclass</th>\n",
       "      <th>Sex</th>\n",
       "      <th>Age</th>\n",
       "      <th>SibSp</th>\n",
       "      <th>Parch</th>\n",
       "      <th>Fare</th>\n",
       "      <th>Embarked</th>\n",
       "    </tr>\n",
       "  </thead>\n",
       "  <tbody>\n",
       "    <tr>\n",
       "      <th>10</th>\n",
       "      <td>3</td>\n",
       "      <td>male</td>\n",
       "      <td>NaN</td>\n",
       "      <td>0</td>\n",
       "      <td>0</td>\n",
       "      <td>7.8958</td>\n",
       "      <td>S</td>\n",
       "    </tr>\n",
       "    <tr>\n",
       "      <th>22</th>\n",
       "      <td>1</td>\n",
       "      <td>female</td>\n",
       "      <td>NaN</td>\n",
       "      <td>0</td>\n",
       "      <td>0</td>\n",
       "      <td>31.6833</td>\n",
       "      <td>S</td>\n",
       "    </tr>\n",
       "    <tr>\n",
       "      <th>29</th>\n",
       "      <td>3</td>\n",
       "      <td>male</td>\n",
       "      <td>NaN</td>\n",
       "      <td>2</td>\n",
       "      <td>0</td>\n",
       "      <td>21.6792</td>\n",
       "      <td>C</td>\n",
       "    </tr>\n",
       "    <tr>\n",
       "      <th>33</th>\n",
       "      <td>3</td>\n",
       "      <td>female</td>\n",
       "      <td>NaN</td>\n",
       "      <td>1</td>\n",
       "      <td>2</td>\n",
       "      <td>23.4500</td>\n",
       "      <td>S</td>\n",
       "    </tr>\n",
       "    <tr>\n",
       "      <th>36</th>\n",
       "      <td>3</td>\n",
       "      <td>female</td>\n",
       "      <td>NaN</td>\n",
       "      <td>0</td>\n",
       "      <td>0</td>\n",
       "      <td>8.0500</td>\n",
       "      <td>S</td>\n",
       "    </tr>\n",
       "    <tr>\n",
       "      <th>...</th>\n",
       "      <td>...</td>\n",
       "      <td>...</td>\n",
       "      <td>...</td>\n",
       "      <td>...</td>\n",
       "      <td>...</td>\n",
       "      <td>...</td>\n",
       "      <td>...</td>\n",
       "    </tr>\n",
       "    <tr>\n",
       "      <th>408</th>\n",
       "      <td>3</td>\n",
       "      <td>female</td>\n",
       "      <td>NaN</td>\n",
       "      <td>0</td>\n",
       "      <td>0</td>\n",
       "      <td>7.7208</td>\n",
       "      <td>Q</td>\n",
       "    </tr>\n",
       "    <tr>\n",
       "      <th>410</th>\n",
       "      <td>3</td>\n",
       "      <td>female</td>\n",
       "      <td>NaN</td>\n",
       "      <td>0</td>\n",
       "      <td>0</td>\n",
       "      <td>7.7500</td>\n",
       "      <td>Q</td>\n",
       "    </tr>\n",
       "    <tr>\n",
       "      <th>413</th>\n",
       "      <td>3</td>\n",
       "      <td>male</td>\n",
       "      <td>NaN</td>\n",
       "      <td>0</td>\n",
       "      <td>0</td>\n",
       "      <td>8.0500</td>\n",
       "      <td>S</td>\n",
       "    </tr>\n",
       "    <tr>\n",
       "      <th>416</th>\n",
       "      <td>3</td>\n",
       "      <td>male</td>\n",
       "      <td>NaN</td>\n",
       "      <td>0</td>\n",
       "      <td>0</td>\n",
       "      <td>8.0500</td>\n",
       "      <td>S</td>\n",
       "    </tr>\n",
       "    <tr>\n",
       "      <th>417</th>\n",
       "      <td>3</td>\n",
       "      <td>male</td>\n",
       "      <td>NaN</td>\n",
       "      <td>1</td>\n",
       "      <td>1</td>\n",
       "      <td>22.3583</td>\n",
       "      <td>C</td>\n",
       "    </tr>\n",
       "  </tbody>\n",
       "</table>\n",
       "<p>86 rows × 7 columns</p>\n",
       "</div>"
      ],
      "text/plain": [
       "     Pclass     Sex  Age  SibSp  Parch     Fare Embarked\n",
       "10        3    male  NaN      0      0   7.8958        S\n",
       "22        1  female  NaN      0      0  31.6833        S\n",
       "29        3    male  NaN      2      0  21.6792        C\n",
       "33        3  female  NaN      1      2  23.4500        S\n",
       "36        3  female  NaN      0      0   8.0500        S\n",
       "..      ...     ...  ...    ...    ...      ...      ...\n",
       "408       3  female  NaN      0      0   7.7208        Q\n",
       "410       3  female  NaN      0      0   7.7500        Q\n",
       "413       3    male  NaN      0      0   8.0500        S\n",
       "416       3    male  NaN      0      0   8.0500        S\n",
       "417       3    male  NaN      1      1  22.3583        C\n",
       "\n",
       "[86 rows x 7 columns]"
      ]
     },
     "execution_count": 278,
     "metadata": {},
     "output_type": "execute_result"
    }
   ],
   "source": [
    "# test data 결측치 행 확인\n",
    "test_data[test_data.isna().sum(axis=1)>0]"
   ]
  },
  {
   "cell_type": "code",
   "execution_count": 279,
   "id": "970fe73f-e984-4f42-a234-88f82cc4f930",
   "metadata": {},
   "outputs": [],
   "source": [
    "#test data fare 결측치 대체\n",
    "test_data.fillna({'Fare' : test_data.Fare.mean()}, inplace=True)"
   ]
  },
  {
   "cell_type": "code",
   "execution_count": 280,
   "id": "be9690c2-661f-42d0-9cf0-a06ea3eb001c",
   "metadata": {},
   "outputs": [
    {
     "data": {
      "text/html": [
       "<div>\n",
       "<style scoped>\n",
       "    .dataframe tbody tr th:only-of-type {\n",
       "        vertical-align: middle;\n",
       "    }\n",
       "\n",
       "    .dataframe tbody tr th {\n",
       "        vertical-align: top;\n",
       "    }\n",
       "\n",
       "    .dataframe thead th {\n",
       "        text-align: right;\n",
       "    }\n",
       "</style>\n",
       "<table border=\"1\" class=\"dataframe\">\n",
       "  <thead>\n",
       "    <tr style=\"text-align: right;\">\n",
       "      <th></th>\n",
       "      <th>Pclass</th>\n",
       "      <th>Age</th>\n",
       "      <th>SibSp</th>\n",
       "      <th>Parch</th>\n",
       "      <th>Fare</th>\n",
       "    </tr>\n",
       "    <tr>\n",
       "      <th>Sex</th>\n",
       "      <th></th>\n",
       "      <th></th>\n",
       "      <th></th>\n",
       "      <th></th>\n",
       "      <th></th>\n",
       "    </tr>\n",
       "  </thead>\n",
       "  <tbody>\n",
       "    <tr>\n",
       "      <th>female</th>\n",
       "      <td>2.144737</td>\n",
       "      <td>30.272362</td>\n",
       "      <td>0.565789</td>\n",
       "      <td>0.598684</td>\n",
       "      <td>49.747699</td>\n",
       "    </tr>\n",
       "    <tr>\n",
       "      <th>male</th>\n",
       "      <td>2.334586</td>\n",
       "      <td>30.272732</td>\n",
       "      <td>0.379699</td>\n",
       "      <td>0.274436</td>\n",
       "      <td>27.558326</td>\n",
       "    </tr>\n",
       "  </tbody>\n",
       "</table>\n",
       "</div>"
      ],
      "text/plain": [
       "          Pclass        Age     SibSp     Parch       Fare\n",
       "Sex                                                       \n",
       "female  2.144737  30.272362  0.565789  0.598684  49.747699\n",
       "male    2.334586  30.272732  0.379699  0.274436  27.558326"
      ]
     },
     "execution_count": 280,
     "metadata": {},
     "output_type": "execute_result"
    }
   ],
   "source": [
    "# test 데이터 성별 그룹 합계\n",
    "test_data.groupby([\"Sex\"]).mean()"
   ]
  },
  {
   "cell_type": "code",
   "execution_count": 281,
   "id": "8a5a304c-c394-4420-bd15-6cb7f5df9d2d",
   "metadata": {},
   "outputs": [
    {
     "data": {
      "text/plain": [
       "Pclass      0\n",
       "Sex         0\n",
       "Age         0\n",
       "SibSp       0\n",
       "Parch       0\n",
       "Fare        0\n",
       "Embarked    0\n",
       "dtype: int64"
      ]
     },
     "execution_count": 281,
     "metadata": {},
     "output_type": "execute_result"
    }
   ],
   "source": [
    "#test data 생존 - 성별 Age 평균 대체\n",
    "\n",
    "fill_val = {'female' : 30, 'male' : 30}\n",
    "fill_func = lambda d : d.fillna(fill_val[d.name])\n",
    "\n",
    "test_data = test_data.groupby(\"Sex\").apply(fill_func)\n",
    "\n",
    "#결측치 확인\n",
    "test_data.isna().sum()"
   ]
  },
  {
   "cell_type": "code",
   "execution_count": 282,
   "id": "c5dd81c4-c585-4dee-b8bc-6ea0fda9aa5f",
   "metadata": {},
   "outputs": [
    {
     "data": {
      "image/png": "[encoded data removed]",
      "text/plain": [
       "<Figure size 1440x1080 with 2 Axes>"
      ]
     },
     "metadata": {
      "needs_background": "light"
     },
     "output_type": "display_data"
    }
   ],
   "source": [
    "import matplotlib.pyplot as plt\n",
    "%matplotlib inline\n",
    "import seaborn as sns\n",
    "import numpy as np\n",
    "\n",
    "train_data[[\"Age\",\"Fare\"]].hist(bins=50,figsize=(20,15))\n",
    "plt.show()"
   ]
  },
  {
   "cell_type": "code",
   "execution_count": 283,
   "id": "18ef5bf3-8bdd-4fe2-bb64-80b5e94b0cad",
   "metadata": {},
   "outputs": [],
   "source": [
    "from sklearn.preprocessing import LabelEncoder\n",
    "\n",
    "corr_df = train_data.copy()\n",
    "corr_df[corr_df.columns[corr_df.dtypes==\"O\"]] = corr_df[corr_df.columns[corr_df.dtypes==\"O\"]].astype(str).apply(LabelEncoder().fit_transform) "
   ]
  },
  {
   "cell_type": "code",
   "execution_count": 284,
   "id": "99774d47-5b2f-4eef-8ead-8d42c7373020",
   "metadata": {},
   "outputs": [
    {
     "data": {
      "image/png": "[encoded data removed]",
      "text/plain": [
       "<Figure size 1080x720 with 2 Axes>"
      ]
     },
     "metadata": {
      "needs_background": "light"
     },
     "output_type": "display_data"
    }
   ],
   "source": [
    "#상관관계 분석도\n",
    "plt.figure(figsize=(15,10))\n",
    "\n",
    "heat_table = corr_df.corr()\n",
    "mask = np.zeros_like(heat_table)\n",
    "mask[np.triu_indices_from(mask)] = True\n",
    "heatmap_ax = sns.heatmap(heat_table, annot=True, mask = mask, cmap='coolwarm')\n",
    "heatmap_ax.set_xticklabels(heatmap_ax.get_xticklabels(), fontsize=15, rotation=45)\n",
    "heatmap_ax.set_yticklabels(heatmap_ax.get_yticklabels(), fontsize=15)\n",
    "plt.title('correlation between features', fontsize=40)\n",
    "plt.show()"
   ]
  },
  {
   "cell_type": "code",
   "execution_count": 309,
   "id": "34a8ab4b-dfce-4943-9b62-9f5c641e9205",
   "metadata": {},
   "outputs": [],
   "source": [
    "# 데이터 분할\n",
    "X = train_data[[\"Pclass\",\"Sex\",\"Age\",\"SibSp\",\"Parch\",\"Fare\",\"Embarked\"]]\n",
    "X = pd.get_dummies(X, columns=['Sex',\"Embarked\"])\n",
    "y = train_data[[\"Survived\"]]\n",
    "\n",
    "\n",
    "from sklearn.model_selection import train_test_split\n",
    "X_train, X_test, y_train, y_test = train_test_split(X, y, random_state=42)\n",
    "\n",
    "\n",
    "# 데이터 전처리\n",
    "from sklearn.preprocessing import StandardScaler\n",
    "\n",
    "scaler = StandardScaler()\n",
    "scaler.fit(X_train)\n",
    "X_scaled_train = scaler.transform(X_train)\n",
    "X_scaled_test = scaler.transform(X_test)"
   ]
  },
  {
   "cell_type": "code",
   "execution_count": 313,
   "id": "03f19133-389e-4c7f-b643-e9dbad528a0d",
   "metadata": {},
   "outputs": [
    {
     "name": "stdout",
     "output_type": "stream",
     "text": [
      "train set 모델 스코어 :  0.9940119760479041\n",
      "test set 모델 스코어 :  0.8116591928251121\n"
     ]
    }
   ],
   "source": [
    "#모델적용 - 랜덤 포레스트 회귀분석\n",
    "\n",
    "from sklearn.ensemble import RandomForestClassifier\n",
    "model = RandomForestClassifier()\n",
    "model.fit(X_scaled_train,y_train)\n",
    "pred_train = model.predict(X_scaled_train)\n",
    "pred_test = model.predict(X_scaled_test)\n",
    "print(\"train set 모델 스코어 : \", model.score(X_scaled_train,y_train))\n",
    "print(\"test set 모델 스코어 : \", model.score(X_scaled_test,y_test))"
   ]
  },
  {
   "cell_type": "code",
   "execution_count": 318,
   "id": "dbb97092-d41b-435f-9bac-ab778766156e",
   "metadata": {},
   "outputs": [
    {
     "name": "stdout",
     "output_type": "stream",
     "text": [
      "Train 데이터 오차 행렬 : \n",
      " [[400   1]\n",
      " [  3 264]]\n",
      "Train 데이터 분류 레포트 : \n",
      "               precision    recall  f1-score   support\n",
      "\n",
      "           0       0.99      1.00      1.00       401\n",
      "           1       1.00      0.99      0.99       267\n",
      "\n",
      "    accuracy                           0.99       668\n",
      "   macro avg       0.99      0.99      0.99       668\n",
      "weighted avg       0.99      0.99      0.99       668\n",
      "\n",
      "Test 데이터 오차 행렬 : \n",
      " [[126  22]\n",
      " [ 20  55]]\n",
      "Test 데이터 분류 레포트 : \n",
      "               precision    recall  f1-score   support\n",
      "\n",
      "           0       0.86      0.85      0.86       148\n",
      "           1       0.71      0.73      0.72        75\n",
      "\n",
      "    accuracy                           0.81       223\n",
      "   macro avg       0.79      0.79      0.79       223\n",
      "weighted avg       0.81      0.81      0.81       223\n",
      "\n"
     ]
    }
   ],
   "source": [
    "from sklearn.metrics import confusion_matrix, classification_report\n",
    "\n",
    "confusion_train = confusion_matrix(y_train, pred_train)\n",
    "print(\"Train 데이터 오차 행렬 : \\n\", confusion_train)\n",
    "\n",
    "cfreport_train = classification_report(y_train, pred_train)\n",
    "print(\"Train 데이터 분류 레포트 : \\n\", cfreport_train)\n",
    "\n",
    "\n",
    "confusion_test = confusion_matrix(y_test, pred_test)\n",
    "print(\"Test 데이터 오차 행렬 : \\n\", confusion_test)\n",
    "\n",
    "cfreport_test = classification_report(y_test, pred_test)\n",
    "print(\"Test 데이터 분류 레포트 : \\n\", cfreport_test)\n"
   ]
  },
  {
   "cell_type": "code",
   "execution_count": 321,
   "id": "b1b6a7e4-42dd-4a61-b538-0fe508f8532a",
   "metadata": {},
   "outputs": [
    {
     "data": {
      "text/plain": [
       "RandomizedSearchCV(cv=5, estimator=RandomForestClassifier(), n_iter=20,\n",
       "                   param_distributions={'max_features': ['auto', 'sqrt',\n",
       "                                                         'log2'],\n",
       "                                        'n_estimators': <scipy.stats._distn_infrastructure.rv_frozen object at 0x000002648D9A9490>})"
      ]
     },
     "execution_count": 321,
     "metadata": {},
     "output_type": "execute_result"
    }
   ],
   "source": [
    "# 랜덤 서치 하이퍼 파라미터 찾기\n",
    "from sklearn.model_selection import RandomizedSearchCV\n",
    "from scipy.stats import randint\n",
    "\n",
    "param_distribs = {\"n_estimators\" : randint(low=1, high=1000),\n",
    "                 \"max_features\" : ['auto','sqrt','log2']}\n",
    "\n",
    "random_search = RandomizedSearchCV(model, param_distributions=param_distribs, n_iter=20, cv=5)\n",
    "random_search.fit(X_scaled_train,y_train)"
   ]
  },
  {
   "cell_type": "code",
   "execution_count": 322,
   "id": "025c673a-4fd2-4d48-af85-5b4aef728c6b",
   "metadata": {},
   "outputs": [
    {
     "name": "stdout",
     "output_type": "stream",
     "text": [
      "Best Parameter : {'max_features': 'auto', 'n_estimators': 362}\n",
      "Best Score : 0.8144\n",
      "Test Set Score : 0.8072\n"
     ]
    }
   ],
   "source": [
    "# best 파라미터, best score\n",
    "print(\"Best Parameter : {}\".format(random_search.best_params_))\n",
    "print(\"Best Score : {:.4f}\".format(random_search.best_score_))\n",
    "print(\"Test Set Score : {:.4f}\".format(random_search.score(X_scaled_test,y_test)))\n"
   ]
  },
  {
   "cell_type": "code",
   "execution_count": 337,
   "id": "73366275-5c7a-4d1b-9c55-cb3676c23d92",
   "metadata": {},
   "outputs": [],
   "source": [
    "#test 데이터 더미 변수 생성\n",
    "#pd.get_dummies(test_data,columns=[\"Sex\", \"Embarked\"])\n",
    "test_data\n",
    "#테스트 데이터 정규화\n",
    "test_scaled = scaler.transform(test_data)"
   ]
  },
  {
   "cell_type": "code",
   "execution_count": 334,
   "id": "0bee4c78-5a73-4bd4-a8e6-8979a3f457a1",
   "metadata": {},
   "outputs": [],
   "source": [
    "#하이퍼 파라미터 조정 후 test 데이터 적용\n",
    "\n",
    "model_test = RandomForestClassifier(max_features = \"auto\", n_estimators = 362)\n",
    "model_test.fit(X_scaled_train, y_train)\n",
    "test_pred = model_test.predict(test_scaled)"
   ]
  },
  {
   "cell_type": "code",
   "execution_count": 336,
   "id": "31502026-987a-438a-9615-a8d4261ccca3",
   "metadata": {},
   "outputs": [],
   "source": [
    "#submission 제출\n",
    "submission = pd.read_csv(\"./data/gender_submission.csv\", encoding=\"UTF-8\")\n",
    "submission[\"Survived\"] = test_pred\n",
    "submission.to_csv(\"./data/submission(final).csv\", encoding=\"UTF-8\", header=True, index=False)"
   ]
  },
  {
   "cell_type": "code",
   "execution_count": null,
   "id": "d35f180d-ba6e-4eb8-93e0-de9a8221224d",
   "metadata": {},
   "outputs": [],
   "source": []
  }
 ],
 "metadata": {
  "kernelspec": {
   "display_name": "pydatavenv",
   "language": "python",
   "name": "pydatavenv"
  },
  "language_info": {
   "codemirror_mode": {
    "name": "ipython",
    "version": 3
   },
   "file_extension": ".py",
   "mimetype": "text/x-python",
   "name": "python",
   "nbconvert_exporter": "python",
   "pygments_lexer": "ipython3",
   "version": "3.9.7"
  }
 },
 "nbformat": 4,
 "nbformat_minor": 5
}
